{
  "nbformat": 4,
  "nbformat_minor": 0,
  "metadata": {
    "colab": {
      "provenance": [],
      "collapsed_sections": []
    },
    "kernelspec": {
      "name": "python3",
      "display_name": "Python 3"
    },
    "language_info": {
      "name": "python"
    }
  },
  "cells": [
    {
      "cell_type": "code",
      "metadata": {
        "id": "-WgMksWedCd7"
      },
      "source": [
        "import numpy as np\n",
        "import pandas as pd\n",
        "from tensorflow import keras\n",
        "from tensorflow.keras import layers\n",
        "from matplotlib import pyplot as plt"
      ],
      "execution_count": null,
      "outputs": []
    },
    {
      "cell_type": "code",
      "metadata": {
        "colab": {
          "base_uri": "https://localhost:8080/"
        },
        "id": "WVNuMW2fdz5H",
        "outputId": "eedd52a5-4c9f-4495-9fd7-55c5f52ccf5a"
      },
      "source": [
        "df = pd.read_csv('DATASET.csv')\n",
        "print (df)"
      ],
      "execution_count": null,
      "outputs": [
        {
          "output_type": "stream",
          "name": "stdout",
          "text": [
            "      -0.424303395\n",
            "0        -0.269274\n",
            "1        -0.011706\n",
            "2         0.249525\n",
            "3        -0.121569\n",
            "4         0.430189\n",
            "...            ...\n",
            "5992      0.331200\n",
            "5993     -0.385353\n",
            "5994     -0.818702\n",
            "5995     -0.517189\n",
            "5996     -0.236427\n",
            "\n",
            "[5997 rows x 1 columns]\n"
          ]
        }
      ]
    },
    {
      "cell_type": "code",
      "metadata": {
        "id": "d-rmWKkhpE-K"
      },
      "source": [
        "import pandas as pd\n",
        "import fbprophet\n",
        "import matplotlib.pyplot as plt\n",
        "%matplotlib inline"
      ],
      "execution_count": null,
      "outputs": []
    },
    {
      "cell_type": "code",
      "metadata": {
        "colab": {
          "base_uri": "https://localhost:8080/",
          "height": 282
        },
        "id": "TECbJGg6pNCf",
        "outputId": "907b746c-cb70-41d1-aedf-f11500fe3c36"
      },
      "source": [
        "df.plot()"
      ],
      "execution_count": null,
      "outputs": [
        {
          "output_type": "execute_result",
          "data": {
            "text/plain": [
              "<matplotlib.axes._subplots.AxesSubplot at 0x7f70c0cb5690>"
            ]
          },
          "metadata": {},
          "execution_count": 41
        },
        {
          "output_type": "display_data",
          "data": {
            "image/png": "[encoded data removed]",
            "text/plain": [
              "<Figure size 432x288 with 1 Axes>"
            ]
          },
          "metadata": {
            "needs_background": "light"
          }
        }
      ]
    },
    {
      "cell_type": "code",
      "metadata": {
        "colab": {
          "base_uri": "https://localhost:8080/",
          "height": 206
        },
        "id": "PAA9Hm0FpWe3",
        "outputId": "ae446c1c-1969-45ea-82c5-0dd7194aaeff"
      },
      "source": [
        "df.head()"
      ],
      "execution_count": null,
      "outputs": [
        {
          "output_type": "execute_result",
          "data": {
            "text/html": [
              "<div>\n",
              "<style scoped>\n",
              "    .dataframe tbody tr th:only-of-type {\n",
              "        vertical-align: middle;\n",
              "    }\n",
              "\n",
              "    .dataframe tbody tr th {\n",
              "        vertical-align: top;\n",
              "    }\n",
              "\n",
              "    .dataframe thead th {\n",
              "        text-align: right;\n",
              "    }\n",
              "</style>\n",
              "<table border=\"1\" class=\"dataframe\">\n",
              "  <thead>\n",
              "    <tr style=\"text-align: right;\">\n",
              "      <th></th>\n",
              "      <th>-0.424303395</th>\n",
              "    </tr>\n",
              "  </thead>\n",
              "  <tbody>\n",
              "    <tr>\n",
              "      <th>0</th>\n",
              "      <td>-0.269274</td>\n",
              "    </tr>\n",
              "    <tr>\n",
              "      <th>1</th>\n",
              "      <td>-0.011706</td>\n",
              "    </tr>\n",
              "    <tr>\n",
              "      <th>2</th>\n",
              "      <td>0.249525</td>\n",
              "    </tr>\n",
              "    <tr>\n",
              "      <th>3</th>\n",
              "      <td>-0.121569</td>\n",
              "    </tr>\n",
              "    <tr>\n",
              "      <th>4</th>\n",
              "      <td>0.430189</td>\n",
              "    </tr>\n",
              "  </tbody>\n",
              "</table>\n",
              "</div>"
            ],
            "text/plain": [
              "   -0.424303395\n",
              "0     -0.269274\n",
              "1     -0.011706\n",
              "2      0.249525\n",
              "3     -0.121569\n",
              "4      0.430189"
            ]
          },
          "metadata": {},
          "execution_count": 42
        }
      ]
    },
    {
      "cell_type": "code",
      "metadata": {
        "colab": {
          "base_uri": "https://localhost:8080/",
          "height": 206
        },
        "id": "pCStvUH3psBP",
        "outputId": "e7a179b3-9e3e-45a9-90c7-a7e76a0ac2c3"
      },
      "source": [
        "\n",
        "df.tail()"
      ],
      "execution_count": null,
      "outputs": [
        {
          "output_type": "execute_result",
          "data": {
            "text/html": [
              "<div>\n",
              "<style scoped>\n",
              "    .dataframe tbody tr th:only-of-type {\n",
              "        vertical-align: middle;\n",
              "    }\n",
              "\n",
              "    .dataframe tbody tr th {\n",
              "        vertical-align: top;\n",
              "    }\n",
              "\n",
              "    .dataframe thead th {\n",
              "        text-align: right;\n",
              "    }\n",
              "</style>\n",
              "<table border=\"1\" class=\"dataframe\">\n",
              "  <thead>\n",
              "    <tr style=\"text-align: right;\">\n",
              "      <th></th>\n",
              "      <th>-0.424303395</th>\n",
              "    </tr>\n",
              "  </thead>\n",
              "  <tbody>\n",
              "    <tr>\n",
              "      <th>5992</th>\n",
              "      <td>0.331200</td>\n",
              "    </tr>\n",
              "    <tr>\n",
              "      <th>5993</th>\n",
              "      <td>-0.385353</td>\n",
              "    </tr>\n",
              "    <tr>\n",
              "      <th>5994</th>\n",
              "      <td>-0.818702</td>\n",
              "    </tr>\n",
              "    <tr>\n",
              "      <th>5995</th>\n",
              "      <td>-0.517189</td>\n",
              "    </tr>\n",
              "    <tr>\n",
              "      <th>5996</th>\n",
              "      <td>-0.236427</td>\n",
              "    </tr>\n",
              "  </tbody>\n",
              "</table>\n",
              "</div>"
            ],
            "text/plain": [
              "      -0.424303395\n",
              "5992      0.331200\n",
              "5993     -0.385353\n",
              "5994     -0.818702\n",
              "5995     -0.517189\n",
              "5996     -0.236427"
            ]
          },
          "metadata": {},
          "execution_count": 43
        }
      ]
    },
    {
      "cell_type": "code",
      "metadata": {
        "colab": {
          "base_uri": "https://localhost:8080/",
          "height": 424
        },
        "id": "g5x4a04ArUxR",
        "outputId": "1fb15139-6741-4e67-ad3a-52109e339bb9"
      },
      "source": [
        "df.reset_index(drop=True)"
      ],
      "execution_count": null,
      "outputs": [
        {
          "output_type": "execute_result",
          "data": {
            "text/html": [
              "<div>\n",
              "<style scoped>\n",
              "    .dataframe tbody tr th:only-of-type {\n",
              "        vertical-align: middle;\n",
              "    }\n",
              "\n",
              "    .dataframe tbody tr th {\n",
              "        vertical-align: top;\n",
              "    }\n",
              "\n",
              "    .dataframe thead th {\n",
              "        text-align: right;\n",
              "    }\n",
              "</style>\n",
              "<table border=\"1\" class=\"dataframe\">\n",
              "  <thead>\n",
              "    <tr style=\"text-align: right;\">\n",
              "      <th></th>\n",
              "      <th>-0.424303395</th>\n",
              "    </tr>\n",
              "  </thead>\n",
              "  <tbody>\n",
              "    <tr>\n",
              "      <th>0</th>\n",
              "      <td>-0.269274</td>\n",
              "    </tr>\n",
              "    <tr>\n",
              "      <th>1</th>\n",
              "      <td>-0.011706</td>\n",
              "    </tr>\n",
              "    <tr>\n",
              "      <th>2</th>\n",
              "      <td>0.249525</td>\n",
              "    </tr>\n",
              "    <tr>\n",
              "      <th>3</th>\n",
              "      <td>-0.121569</td>\n",
              "    </tr>\n",
              "    <tr>\n",
              "      <th>4</th>\n",
              "      <td>0.430189</td>\n",
              "    </tr>\n",
              "    <tr>\n",
              "      <th>...</th>\n",
              "      <td>...</td>\n",
              "    </tr>\n",
              "    <tr>\n",
              "      <th>5992</th>\n",
              "      <td>0.331200</td>\n",
              "    </tr>\n",
              "    <tr>\n",
              "      <th>5993</th>\n",
              "      <td>-0.385353</td>\n",
              "    </tr>\n",
              "    <tr>\n",
              "      <th>5994</th>\n",
              "      <td>-0.818702</td>\n",
              "    </tr>\n",
              "    <tr>\n",
              "      <th>5995</th>\n",
              "      <td>-0.517189</td>\n",
              "    </tr>\n",
              "    <tr>\n",
              "      <th>5996</th>\n",
              "      <td>-0.236427</td>\n",
              "    </tr>\n",
              "  </tbody>\n",
              "</table>\n",
              "<p>5997 rows × 1 columns</p>\n",
              "</div>"
            ],
            "text/plain": [
              "      -0.424303395\n",
              "0        -0.269274\n",
              "1        -0.011706\n",
              "2         0.249525\n",
              "3        -0.121569\n",
              "4         0.430189\n",
              "...            ...\n",
              "5992      0.331200\n",
              "5993     -0.385353\n",
              "5994     -0.818702\n",
              "5995     -0.517189\n",
              "5996     -0.236427\n",
              "\n",
              "[5997 rows x 1 columns]"
            ]
          },
          "metadata": {},
          "execution_count": 44
        }
      ]
    },
    {
      "cell_type": "code",
      "metadata": {
        "colab": {
          "base_uri": "https://localhost:8080/"
        },
        "id": "ypdtKQ1mp6I3",
        "outputId": "a9675a62-4fe8-474a-f3c5-5b05b4cf9cf9"
      },
      "source": [
        "df.columns"
      ],
      "execution_count": null,
      "outputs": [
        {
          "output_type": "execute_result",
          "data": {
            "text/plain": [
              "Index(['-0.424303395'], dtype='object')"
            ]
          },
          "metadata": {},
          "execution_count": 45
        }
      ]
    },
    {
      "cell_type": "code",
      "metadata": {
        "colab": {
          "base_uri": "https://localhost:8080/"
        },
        "id": "SDurF6dH1bde",
        "outputId": "f4550c1f-a6da-4816-ec5a-3714a5220b1a"
      },
      "source": [
        "df['lag_1'] = df['-0.424303395'].shift(1)\n",
        "data = df['lag_1']\n",
        "data.head()"
      ],
      "execution_count": null,
      "outputs": [
        {
          "output_type": "execute_result",
          "data": {
            "text/plain": [
              "0         NaN\n",
              "1   -0.269274\n",
              "2   -0.011706\n",
              "3    0.249525\n",
              "4   -0.121569\n",
              "Name: lag_1, dtype: float64"
            ]
          },
          "metadata": {},
          "execution_count": 46
        }
      ]
    },
    {
      "cell_type": "code",
      "metadata": {
        "colab": {
          "base_uri": "https://localhost:8080/",
          "height": 809
        },
        "id": "DVd3B9tC2mMF",
        "outputId": "b3d3d180-e31d-4a91-90d0-f09b810b2b8f"
      },
      "source": [
        "from statsmodels.graphics.tsaplots import plot_acf\n",
        "from statsmodels.graphics.tsaplots import plot_pacf\n",
        "plot_acf(data[1:], lags=10)\n",
        "plot_pacf(data[1:], lags=10)"
      ],
      "execution_count": null,
      "outputs": [
        {
          "output_type": "execute_result",
          "data": {
            "image/png": "[encoded data removed]",
            "text/plain": [
              "<Figure size 432x288 with 1 Axes>"
            ]
          },
          "metadata": {},
          "execution_count": 47
        },
        {
          "output_type": "display_data",
          "data": {
            "image/png": "[encoded data removed]",
            "text/plain": [
              "<Figure size 432x288 with 1 Axes>"
            ]
          },
          "metadata": {
            "needs_background": "light"
          }
        },
        {
          "output_type": "display_data",
          "data": {
            "image/png": "[encoded data removed]",
            "text/plain": [
              "<Figure size 432x288 with 1 Axes>"
            ]
          },
          "metadata": {
            "needs_background": "light"
          }
        }
      ]
    },
    {
      "cell_type": "code",
      "metadata": {
        "colab": {
          "base_uri": "https://localhost:8080/"
        },
        "id": "E-Tn4IIby3TH",
        "outputId": "c1e54c4a-24ed-4b1f-b236-26a1e0b6dcc2"
      },
      "source": [
        "df.shape"
      ],
      "execution_count": null,
      "outputs": [
        {
          "output_type": "execute_result",
          "data": {
            "text/plain": [
              "(5997, 2)"
            ]
          },
          "metadata": {},
          "execution_count": 48
        }
      ]
    },
    {
      "cell_type": "code",
      "metadata": {
        "colab": {
          "base_uri": "https://localhost:8080/",
          "height": 265
        },
        "id": "5jWpZRk8eFzW",
        "outputId": "e377f096-dd01-40d4-e04c-bb54426bf2af"
      },
      "source": [
        "fig, ax = plt.subplots()\n",
        "df.plot(legend=False, ax=ax)\n",
        "plt.show()"
      ],
      "execution_count": null,
      "outputs": [
        {
          "output_type": "display_data",
          "data": {
            "image/png": "[encoded data removed]",
            "text/plain": [
              "<Figure size 432x288 with 1 Axes>"
            ]
          },
          "metadata": {
            "needs_background": "light"
          }
        }
      ]
    },
    {
      "cell_type": "code",
      "metadata": {
        "colab": {
          "base_uri": "https://localhost:8080/",
          "height": 112
        },
        "id": "gA7s1IIlSR3_",
        "outputId": "5640e356-cc38-49b2-ff3f-137d4b9ee1a3"
      },
      "source": [
        "df_stats = df.describe()\n",
        "df_stats = df_stats.transpose()\n",
        "df_stats\n"
      ],
      "execution_count": null,
      "outputs": [
        {
          "output_type": "execute_result",
          "data": {
            "text/html": [
              "<div>\n",
              "<style scoped>\n",
              "    .dataframe tbody tr th:only-of-type {\n",
              "        vertical-align: middle;\n",
              "    }\n",
              "\n",
              "    .dataframe tbody tr th {\n",
              "        vertical-align: top;\n",
              "    }\n",
              "\n",
              "    .dataframe thead th {\n",
              "        text-align: right;\n",
              "    }\n",
              "</style>\n",
              "<table border=\"1\" class=\"dataframe\">\n",
              "  <thead>\n",
              "    <tr style=\"text-align: right;\">\n",
              "      <th></th>\n",
              "      <th>count</th>\n",
              "      <th>mean</th>\n",
              "      <th>std</th>\n",
              "      <th>min</th>\n",
              "      <th>25%</th>\n",
              "      <th>50%</th>\n",
              "      <th>75%</th>\n",
              "      <th>max</th>\n",
              "    </tr>\n",
              "  </thead>\n",
              "  <tbody>\n",
              "    <tr>\n",
              "      <th>-0.424303395</th>\n",
              "      <td>5997.0</td>\n",
              "      <td>-0.000584</td>\n",
              "      <td>0.578179</td>\n",
              "      <td>-1.555003</td>\n",
              "      <td>-0.398789</td>\n",
              "      <td>-0.010473</td>\n",
              "      <td>0.381365</td>\n",
              "      <td>2.280443</td>\n",
              "    </tr>\n",
              "    <tr>\n",
              "      <th>lag_1</th>\n",
              "      <td>5996.0</td>\n",
              "      <td>-0.000545</td>\n",
              "      <td>0.578219</td>\n",
              "      <td>-1.555003</td>\n",
              "      <td>-0.398839</td>\n",
              "      <td>-0.010473</td>\n",
              "      <td>0.381367</td>\n",
              "      <td>2.280443</td>\n",
              "    </tr>\n",
              "  </tbody>\n",
              "</table>\n",
              "</div>"
            ],
            "text/plain": [
              "               count      mean       std  ...       50%       75%       max\n",
              "-0.424303395  5997.0 -0.000584  0.578179  ... -0.010473  0.381365  2.280443\n",
              "lag_1         5996.0 -0.000545  0.578219  ... -0.010473  0.381367  2.280443\n",
              "\n",
              "[2 rows x 8 columns]"
            ]
          },
          "metadata": {},
          "execution_count": 50
        }
      ]
    },
    {
      "cell_type": "code",
      "metadata": {
        "id": "4FeyDJdOSrg9"
      },
      "source": [
        "def norm(x):\n",
        "  return(x - df_stats['mean']) / df_stats['std']\n",
        "df_new = norm(df)\n"
      ],
      "execution_count": null,
      "outputs": []
    },
    {
      "cell_type": "code",
      "metadata": {
        "colab": {
          "base_uri": "https://localhost:8080/"
        },
        "id": "jPGicotKTr2u",
        "outputId": "274121ab-921c-42fd-c3ed-84c655f47e9e"
      },
      "source": [
        "from numpy import asarray\n",
        "import numpy as np\n",
        "from sklearn.preprocessing import MinMaxScaler\n",
        "scaler = MinMaxScaler()\n",
        "# transform data\n",
        "scaled = scaler.fit_transform(df)\n",
        "print(scaled)"
      ],
      "execution_count": null,
      "outputs": [
        {
          "output_type": "stream",
          "name": "stdout",
          "text": [
            "[[0.33522279        nan]\n",
            " [0.40237753 0.33522279]\n",
            " [0.47048708 0.40237753]\n",
            " ...\n",
            " [0.19197259 0.30495805]\n",
            " [0.27058501 0.19197259]\n",
            " [0.34378685 0.27058501]]\n"
          ]
        }
      ]
    },
    {
      "cell_type": "code",
      "metadata": {
        "id": "HuHRgFGr5lXa"
      },
      "source": [
        "sf= scaled"
      ],
      "execution_count": null,
      "outputs": []
    },
    {
      "cell_type": "code",
      "metadata": {
        "colab": {
          "base_uri": "https://localhost:8080/",
          "height": 265
        },
        "id": "0IOpJlLvZEGU",
        "outputId": "963254c2-f560-4469-8be8-e3ce96a6652d"
      },
      "source": [
        "import numpy as np\n",
        "import matplotlib.pyplot as plt\n",
        "data = scaled\n",
        "newdata = np.squeeze(data) \n",
        "plt.plot(newdata) # plotting by columns\n",
        "plt.show()"
      ],
      "execution_count": null,
      "outputs": [
        {
          "output_type": "display_data",
          "data": {
            "image/png": "[encoded data removed]",
            "text/plain": [
              "<Figure size 432x288 with 1 Axes>"
            ]
          },
          "metadata": {
            "needs_background": "light"
          }
        }
      ]
    },
    {
      "cell_type": "code",
      "metadata": {
        "colab": {
          "base_uri": "https://localhost:8080/"
        },
        "id": "yz9MQfmuaAg2",
        "outputId": "98f01e68-b25e-409d-a9cc-229ebfa65bac"
      },
      "source": [
        "data"
      ],
      "execution_count": null,
      "outputs": [
        {
          "output_type": "execute_result",
          "data": {
            "text/plain": [
              "array([[0.33522279,        nan],\n",
              "       [0.40237753, 0.33522279],\n",
              "       [0.47048708, 0.40237753],\n",
              "       ...,\n",
              "       [0.19197259, 0.30495805],\n",
              "       [0.27058501, 0.19197259],\n",
              "       [0.34378685, 0.27058501]])"
            ]
          },
          "metadata": {},
          "execution_count": 55
        }
      ]
    },
    {
      "cell_type": "code",
      "metadata": {
        "colab": {
          "base_uri": "https://localhost:8080/",
          "height": 282
        },
        "id": "xzQjOLqzAaig",
        "outputId": "9d3ee669-62b6-488a-a96d-b03739f51d72"
      },
      "source": [
        "df[1:].rolling(window =5).mean().plot()"
      ],
      "execution_count": null,
      "outputs": [
        {
          "output_type": "execute_result",
          "data": {
            "text/plain": [
              "<matplotlib.axes._subplots.AxesSubplot at 0x7f70be18c410>"
            ]
          },
          "metadata": {},
          "execution_count": 56
        },
        {
          "output_type": "display_data",
          "data": {
            "image/png": "[encoded data removed]",
            "text/plain": [
              "<Figure size 432x288 with 1 Axes>"
            ]
          },
          "metadata": {
            "needs_background": "light"
          }
        }
      ]
    },
    {
      "cell_type": "code",
      "metadata": {
        "colab": {
          "base_uri": "https://localhost:8080/",
          "height": 640
        },
        "id": "WfPeW4TiApfD",
        "outputId": "d326baa6-db74-4c8c-b9a3-2e2e53876a26"
      },
      "source": [
        "df[1:].plot(figsize=(10,6))\n",
        "df[1:].rolling(window =5).mean().plot()"
      ],
      "execution_count": null,
      "outputs": [
        {
          "output_type": "execute_result",
          "data": {
            "text/plain": [
              "<matplotlib.axes._subplots.AxesSubplot at 0x7f70be0ca990>"
            ]
          },
          "metadata": {},
          "execution_count": 57
        },
        {
          "output_type": "display_data",
          "data": {
            "image/png": "[encoded data removed]",
            "text/plain": [
              "<Figure size 720x432 with 1 Axes>"
            ]
          },
          "metadata": {
            "needs_background": "light"
          }
        },
        {
          "output_type": "display_data",
          "data": {
            "image/png": "[encoded data removed]",
            "text/plain": [
              "<Figure size 432x288 with 1 Axes>"
            ]
          },
          "metadata": {
            "needs_background": "light"
          }
        }
      ]
    },
    {
      "cell_type": "code",
      "metadata": {
        "colab": {
          "base_uri": "https://localhost:8080/",
          "height": 989
        },
        "id": "AuR7mBMcA-yR",
        "outputId": "41048239-c9e5-480c-cf54-86c5314831e5"
      },
      "source": [
        "df[1:] = df[1:].rolling(window=5).mean()\n",
        "df.tail(30)"
      ],
      "execution_count": null,
      "outputs": [
        {
          "output_type": "execute_result",
          "data": {
            "text/html": [
              "<div>\n",
              "<style scoped>\n",
              "    .dataframe tbody tr th:only-of-type {\n",
              "        vertical-align: middle;\n",
              "    }\n",
              "\n",
              "    .dataframe tbody tr th {\n",
              "        vertical-align: top;\n",
              "    }\n",
              "\n",
              "    .dataframe thead th {\n",
              "        text-align: right;\n",
              "    }\n",
              "</style>\n",
              "<table border=\"1\" class=\"dataframe\">\n",
              "  <thead>\n",
              "    <tr style=\"text-align: right;\">\n",
              "      <th></th>\n",
              "      <th>-0.424303395</th>\n",
              "      <th>lag_1</th>\n",
              "    </tr>\n",
              "  </thead>\n",
              "  <tbody>\n",
              "    <tr>\n",
              "      <th>5967</th>\n",
              "      <td>-0.004250</td>\n",
              "      <td>-0.184181</td>\n",
              "    </tr>\n",
              "    <tr>\n",
              "      <th>5968</th>\n",
              "      <td>0.233788</td>\n",
              "      <td>-0.004250</td>\n",
              "    </tr>\n",
              "    <tr>\n",
              "      <th>5969</th>\n",
              "      <td>0.379295</td>\n",
              "      <td>0.233788</td>\n",
              "    </tr>\n",
              "    <tr>\n",
              "      <th>5970</th>\n",
              "      <td>0.431542</td>\n",
              "      <td>0.379295</td>\n",
              "    </tr>\n",
              "    <tr>\n",
              "      <th>5971</th>\n",
              "      <td>0.408348</td>\n",
              "      <td>0.431542</td>\n",
              "    </tr>\n",
              "    <tr>\n",
              "      <th>5972</th>\n",
              "      <td>0.324608</td>\n",
              "      <td>0.408348</td>\n",
              "    </tr>\n",
              "    <tr>\n",
              "      <th>5973</th>\n",
              "      <td>0.135643</td>\n",
              "      <td>0.324608</td>\n",
              "    </tr>\n",
              "    <tr>\n",
              "      <th>5974</th>\n",
              "      <td>0.045311</td>\n",
              "      <td>0.135643</td>\n",
              "    </tr>\n",
              "    <tr>\n",
              "      <th>5975</th>\n",
              "      <td>-0.009132</td>\n",
              "      <td>0.045311</td>\n",
              "    </tr>\n",
              "    <tr>\n",
              "      <th>5976</th>\n",
              "      <td>-0.026466</td>\n",
              "      <td>-0.009132</td>\n",
              "    </tr>\n",
              "    <tr>\n",
              "      <th>5977</th>\n",
              "      <td>0.082909</td>\n",
              "      <td>-0.026466</td>\n",
              "    </tr>\n",
              "    <tr>\n",
              "      <th>5978</th>\n",
              "      <td>0.092186</td>\n",
              "      <td>0.082909</td>\n",
              "    </tr>\n",
              "    <tr>\n",
              "      <th>5979</th>\n",
              "      <td>-0.001320</td>\n",
              "      <td>0.092186</td>\n",
              "    </tr>\n",
              "    <tr>\n",
              "      <th>5980</th>\n",
              "      <td>-0.066261</td>\n",
              "      <td>-0.001320</td>\n",
              "    </tr>\n",
              "    <tr>\n",
              "      <th>5981</th>\n",
              "      <td>-0.231789</td>\n",
              "      <td>-0.066261</td>\n",
              "    </tr>\n",
              "    <tr>\n",
              "      <th>5982</th>\n",
              "      <td>-0.335060</td>\n",
              "      <td>-0.231789</td>\n",
              "    </tr>\n",
              "    <tr>\n",
              "      <th>5983</th>\n",
              "      <td>-0.355568</td>\n",
              "      <td>-0.335060</td>\n",
              "    </tr>\n",
              "    <tr>\n",
              "      <th>5984</th>\n",
              "      <td>-0.312843</td>\n",
              "      <td>-0.355568</td>\n",
              "    </tr>\n",
              "    <tr>\n",
              "      <th>5985</th>\n",
              "      <td>-0.301857</td>\n",
              "      <td>-0.312843</td>\n",
              "    </tr>\n",
              "    <tr>\n",
              "      <th>5986</th>\n",
              "      <td>-0.129738</td>\n",
              "      <td>-0.301857</td>\n",
              "    </tr>\n",
              "    <tr>\n",
              "      <th>5987</th>\n",
              "      <td>0.062889</td>\n",
              "      <td>-0.129738</td>\n",
              "    </tr>\n",
              "    <tr>\n",
              "      <th>5988</th>\n",
              "      <td>0.131981</td>\n",
              "      <td>0.062889</td>\n",
              "    </tr>\n",
              "    <tr>\n",
              "      <th>5989</th>\n",
              "      <td>0.245262</td>\n",
              "      <td>0.131981</td>\n",
              "    </tr>\n",
              "    <tr>\n",
              "      <th>5990</th>\n",
              "      <td>0.230858</td>\n",
              "      <td>0.245262</td>\n",
              "    </tr>\n",
              "    <tr>\n",
              "      <th>5991</th>\n",
              "      <td>0.222313</td>\n",
              "      <td>0.230858</td>\n",
              "    </tr>\n",
              "    <tr>\n",
              "      <th>5992</th>\n",
              "      <td>0.167870</td>\n",
              "      <td>0.222313</td>\n",
              "    </tr>\n",
              "    <tr>\n",
              "      <th>5993</th>\n",
              "      <td>-0.013283</td>\n",
              "      <td>0.167870</td>\n",
              "    </tr>\n",
              "    <tr>\n",
              "      <th>5994</th>\n",
              "      <td>-0.232277</td>\n",
              "      <td>-0.013283</td>\n",
              "    </tr>\n",
              "    <tr>\n",
              "      <th>5995</th>\n",
              "      <td>-0.296242</td>\n",
              "      <td>-0.232277</td>\n",
              "    </tr>\n",
              "    <tr>\n",
              "      <th>5996</th>\n",
              "      <td>-0.325294</td>\n",
              "      <td>-0.296242</td>\n",
              "    </tr>\n",
              "  </tbody>\n",
              "</table>\n",
              "</div>"
            ],
            "text/plain": [
              "      -0.424303395     lag_1\n",
              "5967     -0.004250 -0.184181\n",
              "5968      0.233788 -0.004250\n",
              "5969      0.379295  0.233788\n",
              "5970      0.431542  0.379295\n",
              "5971      0.408348  0.431542\n",
              "5972      0.324608  0.408348\n",
              "5973      0.135643  0.324608\n",
              "5974      0.045311  0.135643\n",
              "5975     -0.009132  0.045311\n",
              "5976     -0.026466 -0.009132\n",
              "5977      0.082909 -0.026466\n",
              "5978      0.092186  0.082909\n",
              "5979     -0.001320  0.092186\n",
              "5980     -0.066261 -0.001320\n",
              "5981     -0.231789 -0.066261\n",
              "5982     -0.335060 -0.231789\n",
              "5983     -0.355568 -0.335060\n",
              "5984     -0.312843 -0.355568\n",
              "5985     -0.301857 -0.312843\n",
              "5986     -0.129738 -0.301857\n",
              "5987      0.062889 -0.129738\n",
              "5988      0.131981  0.062889\n",
              "5989      0.245262  0.131981\n",
              "5990      0.230858  0.245262\n",
              "5991      0.222313  0.230858\n",
              "5992      0.167870  0.222313\n",
              "5993     -0.013283  0.167870\n",
              "5994     -0.232277 -0.013283\n",
              "5995     -0.296242 -0.232277\n",
              "5996     -0.325294 -0.296242"
            ]
          },
          "metadata": {},
          "execution_count": 58
        }
      ]
    },
    {
      "cell_type": "code",
      "metadata": {
        "id": "2TdVuETtjHFp"
      },
      "source": [
        "from scipy import stats"
      ],
      "execution_count": null,
      "outputs": []
    },
    {
      "cell_type": "code",
      "metadata": {
        "id": "X5br6HtRjQFl"
      },
      "source": [
        "df_train = data[1:]"
      ],
      "execution_count": null,
      "outputs": []
    },
    {
      "cell_type": "code",
      "metadata": {
        "id": "IjIWeqtFniB3"
      },
      "source": [
        "df_test = data[1:]\n"
      ],
      "execution_count": null,
      "outputs": []
    },
    {
      "cell_type": "code",
      "metadata": {
        "id": "V9wAkUaUgmUt"
      },
      "source": [
        "train_labels = []"
      ],
      "execution_count": null,
      "outputs": []
    },
    {
      "cell_type": "code",
      "metadata": {
        "id": "hTwh8SiLCryU"
      },
      "source": [
        "window_size = 10\n",
        "step_size = 1\n",
        "\n",
        "# creating overlaping windows of size window-size 100\n",
        "for i in range(0, df_train.shape[0] - window_size, step_size):\n",
        "    xs = df_train[1:][i: i + 100]\n",
        "\n",
        "    label = stats.mode(df_train[1:][i: i + 100])[0][0]\n"
      ],
      "execution_count": null,
      "outputs": []
    },
    {
      "cell_type": "code",
      "metadata": {
        "id": "PeycH42CjL1L"
      },
      "source": [
        "train_labels.append(label)"
      ],
      "execution_count": null,
      "outputs": []
    },
    {
      "cell_type": "code",
      "metadata": {
        "id": "MQtnk_60XpFH"
      },
      "source": [
        "x_list = [df_train]"
      ],
      "execution_count": null,
      "outputs": []
    },
    {
      "cell_type": "code",
      "metadata": {
        "id": "p_gEgbz6kN2c"
      },
      "source": [
        "  x_list.append(xs)"
      ],
      "execution_count": null,
      "outputs": []
    },
    {
      "cell_type": "code",
      "metadata": {
        "id": "omY1BX2mkXC5"
      },
      "source": [
        "X_train = pd.DataFrame()"
      ],
      "execution_count": null,
      "outputs": []
    },
    {
      "cell_type": "code",
      "metadata": {
        "id": "swVvDS5YkYeZ"
      },
      "source": [
        "X_train['x_mean'] = pd.Series(x_list).apply(lambda x: x.mean())"
      ],
      "execution_count": null,
      "outputs": []
    },
    {
      "cell_type": "code",
      "metadata": {
        "colab": {
          "base_uri": "https://localhost:8080/"
        },
        "id": "_ehAfJwtkbUh",
        "outputId": "bbe72997-fb97-4454-c091-b2224beef4bc"
      },
      "source": [
        "X_train['x_mean'] "
      ],
      "execution_count": null,
      "outputs": [
        {
          "output_type": "execute_result",
          "data": {
            "text/plain": [
              "0    0.405288\n",
              "1    0.394455\n",
              "Name: x_mean, dtype: float64"
            ]
          },
          "metadata": {},
          "execution_count": 284
        }
      ]
    },
    {
      "cell_type": "code",
      "metadata": {
        "id": "Rt-HD2zzkfwJ"
      },
      "source": [
        "X_train['x_std'] = pd.Series(x_list).apply(lambda x: x.std())"
      ],
      "execution_count": null,
      "outputs": []
    },
    {
      "cell_type": "code",
      "metadata": {
        "colab": {
          "base_uri": "https://localhost:8080/"
        },
        "id": "qH6Lg_kFkiRh",
        "outputId": "8e1de8ef-f992-4ca0-b6f4-1749c8d59b0d"
      },
      "source": [
        "X_train['x_std']"
      ],
      "execution_count": null,
      "outputs": [
        {
          "output_type": "execute_result",
          "data": {
            "text/plain": [
              "0    0.150744\n",
              "1    0.115601\n",
              "Name: x_std, dtype: float64"
            ]
          },
          "metadata": {},
          "execution_count": 286
        }
      ]
    },
    {
      "cell_type": "code",
      "metadata": {
        "id": "Cu5x_qXLkkqE"
      },
      "source": [
        "X_train['x_min'] = pd.Series(x_list).apply(lambda x: x.min())"
      ],
      "execution_count": null,
      "outputs": []
    },
    {
      "cell_type": "code",
      "metadata": {
        "colab": {
          "base_uri": "https://localhost:8080/"
        },
        "id": "KWo11vmnkxTx",
        "outputId": "7babc155-8cde-43ce-8f4a-3ac871fc7213"
      },
      "source": [
        "X_train['x_min'] "
      ],
      "execution_count": null,
      "outputs": [
        {
          "output_type": "execute_result",
          "data": {
            "text/plain": [
              "0    0.00000\n",
              "1    0.14646\n",
              "Name: x_min, dtype: float64"
            ]
          },
          "metadata": {},
          "execution_count": 262
        }
      ]
    },
    {
      "cell_type": "code",
      "metadata": {
        "id": "wmg5JfNjkzN4"
      },
      "source": [
        "X_train['x_max'] = pd.Series(x_list).apply(lambda x: x.max())"
      ],
      "execution_count": null,
      "outputs": []
    },
    {
      "cell_type": "code",
      "metadata": {
        "colab": {
          "base_uri": "https://localhost:8080/"
        },
        "id": "PZTlKYWok4fR",
        "outputId": "d00a6f35-1115-45b9-eed2-581ae622812d"
      },
      "source": [
        "X_train['x_max']"
      ],
      "execution_count": null,
      "outputs": [
        {
          "output_type": "execute_result",
          "data": {
            "text/plain": [
              "0    1.00000\n",
              "1    0.73844\n",
              "Name: x_max, dtype: float64"
            ]
          },
          "metadata": {},
          "execution_count": 264
        }
      ]
    },
    {
      "cell_type": "code",
      "metadata": {
        "id": "QLcBmfYklArY"
      },
      "source": [
        "X_train['x_maxmin_diff'] = X_train['x_max'] - X_train['x_min']"
      ],
      "execution_count": null,
      "outputs": []
    },
    {
      "cell_type": "code",
      "metadata": {
        "colab": {
          "base_uri": "https://localhost:8080/"
        },
        "id": "eza37dUPlIB4",
        "outputId": "c216be69-c4e9-4bf7-9700-bb561b4dd3c8"
      },
      "source": [
        "X_train['x_maxmin_diff']"
      ],
      "execution_count": null,
      "outputs": [
        {
          "output_type": "execute_result",
          "data": {
            "text/plain": [
              "0    1.00000\n",
              "1    0.59198\n",
              "Name: x_maxmin_diff, dtype: float64"
            ]
          },
          "metadata": {},
          "execution_count": 266
        }
      ]
    },
    {
      "cell_type": "code",
      "metadata": {
        "id": "tL2jleCeZ6v_"
      },
      "source": [
        "\n",
        "X_train['x_median'] = pd.Series(x_list).apply(lambda x: np.median(x))"
      ],
      "execution_count": null,
      "outputs": []
    },
    {
      "cell_type": "code",
      "metadata": {
        "colab": {
          "base_uri": "https://localhost:8080/"
        },
        "id": "v1SwxFkDlMTD",
        "outputId": "56bf59af-a15a-47fe-8f9c-6cc909b5e66a"
      },
      "source": [
        "X_train['x_median'] "
      ],
      "execution_count": null,
      "outputs": [
        {
          "output_type": "execute_result",
          "data": {
            "text/plain": [
              "0    0.402699\n",
              "1    0.398847\n",
              "Name: x_median, dtype: float64"
            ]
          },
          "metadata": {},
          "execution_count": 268
        }
      ]
    },
    {
      "cell_type": "code",
      "metadata": {
        "id": "Xl-53GqXlNtc"
      },
      "source": [
        "X_train['x_mad'] = pd.Series(x_list).apply(lambda x: np.median(np.absolute(x - np.median(x))))"
      ],
      "execution_count": null,
      "outputs": []
    },
    {
      "cell_type": "code",
      "metadata": {
        "colab": {
          "base_uri": "https://localhost:8080/"
        },
        "id": "UMbdR1a_lRqC",
        "outputId": "e9dfd483-3723-4492-83e2-e1bac2207dcd"
      },
      "source": [
        "X_train['x_mad']"
      ],
      "execution_count": null,
      "outputs": [
        {
          "output_type": "execute_result",
          "data": {
            "text/plain": [
              "0    0.101689\n",
              "1    0.077976\n",
              "Name: x_mad, dtype: float64"
            ]
          },
          "metadata": {},
          "execution_count": 270
        }
      ]
    },
    {
      "cell_type": "code",
      "metadata": {
        "id": "mE4CDSiAlZdx"
      },
      "source": [
        "X_train['x_IQR'] = pd.Series(x_list).apply(lambda x: np.percentile(x, 75) - np.percentile(x, 25))"
      ],
      "execution_count": null,
      "outputs": []
    },
    {
      "cell_type": "code",
      "metadata": {
        "colab": {
          "base_uri": "https://localhost:8080/"
        },
        "id": "MxiN7bqZlS75",
        "outputId": "8f53b1f5-8cdd-4f22-9897-29626b801ff3"
      },
      "source": [
        "X_train['x_IQR']"
      ],
      "execution_count": null,
      "outputs": [
        {
          "output_type": "execute_result",
          "data": {
            "text/plain": [
              "0    0.203420\n",
              "1    0.154122\n",
              "Name: x_IQR, dtype: float64"
            ]
          },
          "metadata": {},
          "execution_count": 272
        }
      ]
    },
    {
      "cell_type": "code",
      "metadata": {
        "id": "GUnR5ZyXlb_I"
      },
      "source": [
        "X_train['x_neg_count'] = pd.Series(x_list).apply(lambda x: np.sum(x < 0))"
      ],
      "execution_count": null,
      "outputs": []
    },
    {
      "cell_type": "code",
      "metadata": {
        "colab": {
          "base_uri": "https://localhost:8080/"
        },
        "id": "bimhC21tlgzI",
        "outputId": "b94a453f-881a-4fa9-c34b-b45278ce2a23"
      },
      "source": [
        "X_train['x_neg_count']"
      ],
      "execution_count": null,
      "outputs": [
        {
          "output_type": "execute_result",
          "data": {
            "text/plain": [
              "0    0\n",
              "1    0\n",
              "Name: x_neg_count, dtype: int64"
            ]
          },
          "metadata": {},
          "execution_count": 274
        }
      ]
    },
    {
      "cell_type": "code",
      "metadata": {
        "id": "QjATHZf3lkgo"
      },
      "source": [
        "X_train['x_pos_count'] = pd.Series(x_list).apply(lambda x: np.sum(x > 0))"
      ],
      "execution_count": null,
      "outputs": []
    },
    {
      "cell_type": "code",
      "metadata": {
        "colab": {
          "base_uri": "https://localhost:8080/"
        },
        "id": "fHQ1ZopGlioQ",
        "outputId": "3ef9f884-d020-4e7e-d65f-e6a98e31daf0"
      },
      "source": [
        "X_train['x_pos_count']"
      ],
      "execution_count": null,
      "outputs": [
        {
          "output_type": "execute_result",
          "data": {
            "text/plain": [
              "0    200\n",
              "Name: x_pos_count, dtype: int64"
            ]
          },
          "metadata": {},
          "execution_count": 90
        }
      ]
    },
    {
      "cell_type": "code",
      "metadata": {
        "id": "2C6OxPb8lm8o"
      },
      "source": [
        "X_train['x_above_mean'] = pd.Series(x_list).apply(lambda x: np.sum(x > x.mean()))"
      ],
      "execution_count": null,
      "outputs": []
    },
    {
      "cell_type": "code",
      "metadata": {
        "colab": {
          "base_uri": "https://localhost:8080/"
        },
        "id": "6kdNWkrXlqNY",
        "outputId": "a5cafa31-6833-4afc-d977-3f80efcb7a59"
      },
      "source": [
        "X_train['x_above_mean'] "
      ],
      "execution_count": null,
      "outputs": [
        {
          "output_type": "execute_result",
          "data": {
            "text/plain": [
              "0    101\n",
              "Name: x_above_mean, dtype: int64"
            ]
          },
          "metadata": {},
          "execution_count": 92
        }
      ]
    },
    {
      "cell_type": "code",
      "metadata": {
        "id": "jRULvITEl5YY"
      },
      "source": [
        "from scipy.signal import find_peaks"
      ],
      "execution_count": null,
      "outputs": []
    },
    {
      "cell_type": "code",
      "metadata": {
        "id": "bD-xMHwVmWEJ"
      },
      "source": [
        "X_train['x_skewness'] = pd.Series(x_list).apply(lambda x: stats.skew(x))"
      ],
      "execution_count": null,
      "outputs": []
    },
    {
      "cell_type": "code",
      "metadata": {
        "colab": {
          "base_uri": "https://localhost:8080/"
        },
        "id": "5Y_Z9eSRmXNf",
        "outputId": "0712f673-e9ed-4c37-cf28-821738bad19d"
      },
      "source": [
        "X_train['x_skewness'] "
      ],
      "execution_count": null,
      "outputs": [
        {
          "output_type": "execute_result",
          "data": {
            "text/plain": [
              "0    [0.24557834137316414, 0.22561543871549247]\n",
              "Name: x_skewness, dtype: object"
            ]
          },
          "metadata": {},
          "execution_count": 95
        }
      ]
    },
    {
      "cell_type": "code",
      "metadata": {
        "id": "l6X2jEwhmZLX"
      },
      "source": [
        "X_train['x_kurtosis'] = pd.Series(x_list).apply(lambda x: stats.kurtosis(x))"
      ],
      "execution_count": null,
      "outputs": []
    },
    {
      "cell_type": "code",
      "metadata": {
        "colab": {
          "base_uri": "https://localhost:8080/"
        },
        "id": "p7vRILXamckX",
        "outputId": "43fa84a5-df0a-47b1-c46e-06f0dc98b41e"
      },
      "source": [
        "X_train['x_kurtosis']"
      ],
      "execution_count": null,
      "outputs": [
        {
          "output_type": "execute_result",
          "data": {
            "text/plain": [
              "0    [0.2436267566504151, 0.30493762260396196]\n",
              "Name: x_kurtosis, dtype: object"
            ]
          },
          "metadata": {},
          "execution_count": 97
        }
      ]
    },
    {
      "cell_type": "code",
      "metadata": {
        "id": "XQIvPUTqmg4P"
      },
      "source": [
        "X_train['x_energy'] = pd.Series(x_list).apply(lambda x: np.sum(x**2)/100)"
      ],
      "execution_count": null,
      "outputs": []
    },
    {
      "cell_type": "code",
      "metadata": {
        "colab": {
          "base_uri": "https://localhost:8080/"
        },
        "id": "DYiyziMXmiLv",
        "outputId": "ab4e4e43-7b40-48bf-b518-75be5154716c"
      },
      "source": [
        "X_train['x_energy']"
      ],
      "execution_count": null,
      "outputs": [
        {
          "output_type": "execute_result",
          "data": {
            "text/plain": [
              "0    0.368133\n",
              "Name: x_energy, dtype: float64"
            ]
          },
          "metadata": {},
          "execution_count": 99
        }
      ]
    },
    {
      "cell_type": "code",
      "metadata": {
        "id": "wjDRXMFqWR68"
      },
      "source": [
        "X_test['x_argmax'] "
      ],
      "execution_count": null,
      "outputs": []
    },
    {
      "cell_type": "code",
      "metadata": {
        "id": "jr_4oRLVWTvI"
      },
      "source": [
        "X_test['x_argmin'] = pd.Series(x_list).apply(lambda x: np.argmin(x))"
      ],
      "execution_count": null,
      "outputs": []
    },
    {
      "cell_type": "code",
      "metadata": {
        "id": "EMwmgDT2WZtI"
      },
      "source": [
        "X_test['x_argmin']"
      ],
      "execution_count": null,
      "outputs": []
    },
    {
      "cell_type": "code",
      "metadata": {
        "id": "yCfjv4c2WWwI"
      },
      "source": [
        "X_test['x_arg_diff'] = abs(X_test['x_argmax'] - X_test['x_argmin'])"
      ],
      "execution_count": null,
      "outputs": []
    },
    {
      "cell_type": "code",
      "metadata": {
        "id": "tzZJHIzAWcKa"
      },
      "source": [
        "X_test['x_arg_diff']"
      ],
      "execution_count": null,
      "outputs": []
    },
    {
      "cell_type": "code",
      "metadata": {
        "id": "jufBYN2RWymB"
      },
      "source": [
        "import seaborn as sns"
      ],
      "execution_count": null,
      "outputs": []
    },
    {
      "cell_type": "code",
      "metadata": {
        "id": "P4wjMkxvWeLY"
      },
      "source": [
        "sns.FacetGrid(df, size = 6).map(sns.distplot,'-0.424303395').add_legend()\n"
      ],
      "execution_count": null,
      "outputs": []
    },
    {
      "cell_type": "code",
      "metadata": {
        "id": "s_uaCqLQfKRv"
      },
      "source": [
        "data['Moving Average'] = data.rolling(window=5).mean()"
      ],
      "execution_count": null,
      "outputs": []
    },
    {
      "cell_type": "code",
      "metadata": {
        "id": "E2ZmC_aCfUyn"
      },
      "source": [
        "df.head(10)"
      ],
      "execution_count": null,
      "outputs": []
    },
    {
      "cell_type": "code",
      "metadata": {
        "id": "QeMtokOSyxWn"
      },
      "source": [
        "df.shape"
      ],
      "execution_count": null,
      "outputs": []
    },
    {
      "cell_type": "code",
      "metadata": {
        "id": "7e-mqzZYfd1i"
      },
      "source": [
        "df.plot.line(y=['-0.424303395','Moving Average'])"
      ],
      "execution_count": null,
      "outputs": []
    },
    {
      "cell_type": "code",
      "metadata": {
        "id": "OIxDwEF8d2xL"
      },
      "source": [
        "\n",
        "import pandas as pd\n",
        "import matplotlib.pyplot as mp \n",
        "# form dataframe\n",
        "data = scaled\n",
        "  \n",
        "ff = pd.DataFrame(data, columns=[\"Gear_fault\"])\n",
        "  \n",
        "# plot the dataframe\n",
        "ff.plot( figsize=(9, 8))\n",
        "  \n",
        "# print bar graph\n",
        "mp.show()"
      ],
      "execution_count": null,
      "outputs": []
    },
    {
      "cell_type": "code",
      "metadata": {
        "id": "-eAKHMnfZ81i"
      },
      "source": [
        "newdata"
      ],
      "execution_count": null,
      "outputs": []
    },
    {
      "cell_type": "code",
      "metadata": {
        "id": "uy2zWU19eM2E"
      },
      "source": [
        "# Normalize and save the mean and std we get,\n",
        "# for normalizing test data.\n",
        "training_mean = df.mean()\n",
        "training_std = df.std()\n",
        "df_training_value = (df - training_mean )/ training_std\n",
        "print(\"Number of training samples:\", len(df_training_value))"
      ],
      "execution_count": null,
      "outputs": []
    },
    {
      "cell_type": "code",
      "metadata": {
        "id": "WA9SbyebeUh1"
      },
      "source": [
        "TIME_STEPS = 288\n",
        "# Generated training sequences for use in the model.\n",
        "def create_sequences(values, time_steps=TIME_STEPS):\n",
        "    output = []\n",
        "    for i in range(len(values) - time_steps + 1):\n",
        "        output.append(values[i : (i + time_steps)])\n",
        "    return np.stack(output)\n",
        "\n",
        "\n",
        "x_train = create_sequences(df_training_value.values)\n",
        "print(\"Training input shape: \", x_train.shape)"
      ],
      "execution_count": null,
      "outputs": []
    },
    {
      "cell_type": "code",
      "metadata": {
        "id": "BLdEdpsmeZUM"
      },
      "source": [
        "model = keras.Sequential(\n",
        "    [\n",
        "        layers.Input(shape=(x_train.shape[1], x_train.shape[2])),\n",
        "        layers.Conv1D(\n",
        "            filters=32, kernel_size=7, padding=\"same\", strides=2, activation=\"relu\"\n",
        "        ),\n",
        "        layers.Dropout(rate=0.2),\n",
        "        layers.Conv1D(\n",
        "            filters=16, kernel_size=7, padding=\"same\", strides=2, activation=\"relu\"\n",
        "        ),\n",
        "        layers.Conv1DTranspose(\n",
        "            filters=16, kernel_size=7, padding=\"same\", strides=2, activation=\"relu\"\n",
        "        ),\n",
        "        layers.Dropout(rate=0.2),\n",
        "        layers.Conv1DTranspose(\n",
        "            filters=32, kernel_size=7, padding=\"same\", strides=2, activation=\"relu\"\n",
        "        ),\n",
        "        layers.Conv1DTranspose(filters=1, kernel_size=7, padding=\"same\"),\n",
        "    ]\n",
        ")\n",
        "model.compile(optimizer=keras.optimizers.Adam(learning_rate=0.001), loss=\"mse\")\n",
        "model.summary()"
      ],
      "execution_count": null,
      "outputs": []
    },
    {
      "cell_type": "code",
      "metadata": {
        "id": "c-S_Sa9xedHl"
      },
      "source": [
        "history = model.fit(\n",
        "    x_train,\n",
        "    x_train,\n",
        "    epochs=50,\n",
        "    batch_size=128,\n",
        "    validation_split=0.1,\n",
        "    callbacks=[\n",
        "        keras.callbacks.EarlyStopping(monitor=\"val_loss\", patience=6, mode=\"min\")\n",
        "    ],\n",
        ")"
      ],
      "execution_count": null,
      "outputs": []
    },
    {
      "cell_type": "code",
      "metadata": {
        "id": "IUUjV1OPeyKv"
      },
      "source": [
        "plt.plot(history.history[\"loss\"], label=\"Training Loss\")\n",
        "plt.plot(history.history[\"val_loss\"], label=\"Validation Loss\")\n",
        "plt.legend()\n",
        "plt.show()"
      ],
      "execution_count": null,
      "outputs": []
    },
    {
      "cell_type": "code",
      "metadata": {
        "id": "WLLhnixxfHJ-"
      },
      "source": [
        "# Get train MAE loss.\n",
        "x_train_pred = model.predict(x_train)\n",
        "train_mae_loss = np.mean(np.abs(x_train_pred - x_train), axis=1)\n",
        "\n",
        "plt.hist(train_mae_loss, bins=50)\n",
        "plt.xlabel(\"Train MAE loss\")\n",
        "plt.ylabel(\"No of samples\")\n",
        "plt.show()\n",
        "\n",
        "# Get reconstruction loss threshold.\n",
        "threshold = np.max(train_mae_loss)\n",
        "print(\"Reconstruction error threshold: \", threshold)"
      ],
      "execution_count": null,
      "outputs": []
    },
    {
      "cell_type": "code",
      "metadata": {
        "id": "uJV7FZgL-CPF"
      },
      "source": [
        "\n",
        "df_test_value = (df - training_mean )/ training_std\n",
        "fig, ax = plt.subplots()\n",
        "df_test_value.plot(legend=False, ax=ax)\n",
        "plt.show()\n",
        "\n",
        "# Create sequences from test values.\n",
        "x_test = create_sequences(df_test_value.values)\n",
        "print(\"Test input shape: \", x_test.shape)\n",
        "\n",
        "# Get test MAE loss.\n",
        "x_test_pred = model.predict(x_test)\n",
        "test_mae_loss = np.mean(np.abs(x_test_pred - x_test), axis=1)\n",
        "test_mae_loss = test_mae_loss.reshape((-1))\n",
        "\n",
        "plt.hist(test_mae_loss, bins=50)\n",
        "plt.xlabel(\"test MAE loss\")\n",
        "plt.ylabel(\"No of samples\")\n",
        "plt.show()\n",
        "\n",
        "# Detect all the samples which are anomalies.\n",
        "anomalies = test_mae_loss > threshold\n",
        "print(\"Number of anomaly samples: \", np.sum(anomalies))\n",
        "print(\"Indices of anomaly samples: \", np.where(anomalies))"
      ],
      "execution_count": null,
      "outputs": []
    },
    {
      "cell_type": "code",
      "metadata": {
        "id": "pAsNogkofLPc"
      },
      "source": [
        "# Checking how the first sequence is learnt\n",
        "plt.plot(x_train[0])\n",
        "plt.plot(x_train_pred[0])\n",
        "plt.show()"
      ],
      "execution_count": null,
      "outputs": []
    },
    {
      "cell_type": "code",
      "metadata": {
        "id": "AonSR6y3F_Ad"
      },
      "source": [
        "model.save(\"/content/drive/MyDrive/Anomaly_detection/model.h5\")"
      ],
      "execution_count": null,
      "outputs": []
    },
    {
      "cell_type": "code",
      "metadata": {
        "id": "mPXtiO7ODDuk"
      },
      "source": [
        "df_test_value = (df - training_mean) / training_std\n",
        "fig, ax = plt.subplots()\n",
        "df_test_value.plot(legend=False, ax=ax)\n",
        "plt.show()\n",
        "\n",
        "# Create sequences from test values.\n",
        "x_test = create_sequences(df_test_value.values)\n",
        "print(\"Test input shape: \", x_test.shape)\n",
        "\n",
        "# Get test MAE loss.\n",
        "x_test_pred = model.predict(x_test)\n",
        "test_mae_loss = np.mean(np.abs(x_test_pred - x_test), axis=1)\n",
        "test_mae_loss = test_mae_loss.reshape((-1))\n",
        "\n",
        "plt.hist(test_mae_loss, bins=50)\n",
        "plt.xlabel(\"test MAE loss\")\n",
        "plt.ylabel(\"No of samples\")\n",
        "plt.show()\n",
        "\n",
        "# Detect all the samples which are anomalies.\n",
        "anomalies = test_mae_loss > threshold\n",
        "print(\"Number of anomaly samples: \", np.sum(anomalies))\n",
        "print(\"Indices of anomaly samples: \", np.where(anomalies))"
      ],
      "execution_count": null,
      "outputs": []
    },
    {
      "cell_type": "code",
      "metadata": {
        "id": "KK3KBk7R-3qj"
      },
      "source": [
        "# data i is an anomaly if samples [(i - timesteps + 1) to (i)] are anomalies\n",
        "anomalous_data_indices = []\n",
        "for data_idx in range(TIME_STEPS - 1, len(df_test_value) - TIME_STEPS + 1):\n",
        "    if np.all(anomalies[data_idx - TIME_STEPS + 1 : data_idx]):\n",
        "        anomalous_data_indices.append(data_idx)"
      ],
      "execution_count": null,
      "outputs": []
    },
    {
      "cell_type": "code",
      "metadata": {
        "id": "bnRhOwNh-xwF"
      },
      "source": [
        "df_subset = df.iloc[anomalous_data_indices]\n",
        "fig, ax = plt.subplots()\n",
        "df.plot(legend=False, ax=ax)\n",
        "df_subset.plot(legend=False, ax=ax, color=\"r\")\n",
        "plt.show()"
      ],
      "execution_count": null,
      "outputs": []
    },
    {
      "cell_type": "code",
      "metadata": {
        "id": "jmIaqb3CPqI0"
      },
      "source": [
        "import pandas as pd\n",
        "\n",
        "dataFrame = pd.DataFrame(data=df);\n",
        "\n",
        "skewValue = dataFrame.skew(axis=1)\n",
        "\n",
        " \n",
        "\n",
        "print(\"DataFrame:\")\n",
        "\n",
        "print(dataFrame)\n",
        "\n",
        " \n",
        "\n",
        "print(\"Skew:\")\n",
        "\n",
        "print(skewValue)"
      ],
      "execution_count": null,
      "outputs": []
    },
    {
      "cell_type": "code",
      "metadata": {
        "id": "ASuLkHyVd-XP"
      },
      "source": [
        "\n",
        "# finding Skewness\n",
        "  \n",
        "from scipy.stats import skew\n",
        "import numpy as np \n",
        "  \n",
        "# random values based on a normal distribution\n",
        "x = df\n",
        "  \n",
        "print (\"X : \\n\", x)\n",
        "  \n",
        "print('\\nSkewness for data : ', skew(x))"
      ],
      "execution_count": null,
      "outputs": []
    },
    {
      "cell_type": "code",
      "metadata": {
        "id": "T0XGQ14wk76z"
      },
      "source": [
        "keras.utils.plot_model(model, \"net.png\", show_shapes=True)"
      ],
      "execution_count": null,
      "outputs": []
    },
    {
      "cell_type": "code",
      "metadata": {
        "id": "QeOFRyV1lUra"
      },
      "source": [
        "pd.DataFrame(history.history).plot()\n",
        "plt.grid(True)\n",
        "plt.gca().set_ylim(-0.1,1.1)\n",
        "plt.show()"
      ],
      "execution_count": null,
      "outputs": []
    },
    {
      "cell_type": "code",
      "metadata": {
        "id": "3z70PnZ1fHgg"
      },
      "source": [],
      "execution_count": null,
      "outputs": []
    }
  ]
}